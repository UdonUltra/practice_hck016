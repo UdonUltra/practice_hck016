{
 "cells": [
  {
   "cell_type": "markdown",
   "metadata": {},
   "source": [
    "## No 1"
   ]
  },
  {
   "cell_type": "code",
   "execution_count": 3,
   "metadata": {},
   "outputs": [
    {
     "data": {
      "text/plain": [
       "[6, 8, 10]"
      ]
     },
     "execution_count": 3,
     "metadata": {},
     "output_type": "execute_result"
    }
   ],
   "source": [
    "def checkEven(numberList):\n",
    "    evenList = []\n",
    "    for number in numberList:\n",
    "        if number % 2 == 0:\n",
    "            evenList.append(number)\n",
    "    return evenList\n",
    "\n",
    "checkEven([1, 6, 3, 8, 10])\n"
   ]
  },
  {
   "cell_type": "markdown",
   "metadata": {},
   "source": [
    "## No 2"
   ]
  },
  {
   "cell_type": "code",
   "execution_count": 10,
   "metadata": {},
   "outputs": [
    {
     "name": "stdout",
     "output_type": "stream",
     "text": [
      "6\n"
     ]
    }
   ],
   "source": [
    "def checkVocal(sentence):\n",
    "    count = 0\n",
    "    vocalAlfa = \"aiueo\"\n",
    "    sentence = sentence.lower()\n",
    "    for char in sentence:\n",
    "        if char in vocalAlfa:\n",
    "            count += 1\n",
    "    return count\n",
    "\n",
    "print(checkVocal(\"saya lapar banget\"))"
   ]
  },
  {
   "cell_type": "markdown",
   "metadata": {},
   "source": [
    "## No 3"
   ]
  },
  {
   "cell_type": "code",
   "execution_count": 12,
   "metadata": {},
   "outputs": [
    {
     "data": {
      "text/plain": [
       "27"
      ]
     },
     "execution_count": 12,
     "metadata": {},
     "output_type": "execute_result"
    }
   ],
   "source": [
    "def mariHitung(listAngka):\n",
    "    total = 0\n",
    "\n",
    "    for angka in listAngka:\n",
    "        total += angka\n",
    "    return total\n",
    "\n",
    "mariHitung([10, 5, 7, 5])"
   ]
  },
  {
   "cell_type": "markdown",
   "metadata": {},
   "source": [
    "## No 4"
   ]
  },
  {
   "cell_type": "code",
   "execution_count": 17,
   "metadata": {},
   "outputs": [
    {
     "name": "stdout",
     "output_type": "stream",
     "text": [
      "* \n",
      "* * \n",
      "* * * \n",
      "* * * * \n",
      "* * * * * \n"
     ]
    }
   ],
   "source": [
    "def rasi_bintang(jumlah_baris):\n",
    "    # melakukan pengulangan sejumlah baris\n",
    "    for baris in range(1, jumlah_baris+1):\n",
    "        print('* ' * baris)\n",
    "\n",
    "rasi_bintang(5)"
   ]
  },
  {
   "cell_type": "code",
   "execution_count": null,
   "metadata": {},
   "outputs": [],
   "source": []
  }
 ],
 "metadata": {
  "kernelspec": {
   "display_name": "hck016",
   "language": "python",
   "name": "python3"
  },
  "language_info": {
   "codemirror_mode": {
    "name": "ipython",
    "version": 3
   },
   "file_extension": ".py",
   "mimetype": "text/x-python",
   "name": "python",
   "nbconvert_exporter": "python",
   "pygments_lexer": "ipython3",
   "version": "3.9.19"
  }
 },
 "nbformat": 4,
 "nbformat_minor": 2
}
