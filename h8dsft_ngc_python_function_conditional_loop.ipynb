{
 "cells": [
  {
   "cell_type": "markdown",
   "metadata": {},
   "source": [
    "# Non Graded Challenge 1"
   ]
  },
  {
   "cell_type": "markdown",
   "metadata": {},
   "source": [
    "## Task 1"
   ]
  },
  {
   "cell_type": "code",
   "execution_count": 1,
   "metadata": {},
   "outputs": [
    {
     "name": "stdout",
     "output_type": "stream",
     "text": [
      "2\n",
      "8\n"
     ]
    }
   ],
   "source": [
    "def numberOfWord(sentence):\n",
    "    wordList = sentence.split()\n",
    "    return len(wordList) #return jumlah kata dalam kalimat\n",
    "\n",
    "print(numberOfWord(\"Hello World!\"))\n",
    "print(numberOfWord(\"Once Upon a Time in a faraway land\"))\n"
   ]
  },
  {
   "cell_type": "markdown",
   "metadata": {},
   "source": [
    "## Task 2"
   ]
  },
  {
   "cell_type": "code",
   "execution_count": 10,
   "metadata": {},
   "outputs": [
    {
     "name": "stdout",
     "output_type": "stream",
     "text": [
      "[5, 10, 15, 20]\n",
      "[10, 20, 30, 40, 50]\n"
     ]
    }
   ],
   "source": [
    "def findMultiples(startRange,endRange,multiple):\n",
    "    count = 1\n",
    "    multiplyValue = count * multiple\n",
    "    multiplyList = []\n",
    "    while  multiplyValue <= endRange:\n",
    "        multiplyValue = count * multiple\n",
    "        count += 1\n",
    "        if startRange <= multiplyValue <= endRange:\n",
    "            multiplyList.append(multiplyValue)\n",
    "    \n",
    "    return multiplyList\n",
    "\n",
    "print(findMultiples(1,20,5))\n",
    "print(findMultiples(1,50,10))\n"
   ]
  },
  {
   "cell_type": "code",
   "execution_count": null,
   "metadata": {},
   "outputs": [],
   "source": []
  },
  {
   "cell_type": "markdown",
   "metadata": {},
   "source": [
    "## Task 3"
   ]
  },
  {
   "cell_type": "code",
   "execution_count": 14,
   "metadata": {},
   "outputs": [
    {
     "name": "stdout",
     "output_type": "stream",
     "text": [
      "{'Adam': 2.5, 'Faiz': 4}\n",
      "{'Albert': 'A', 'Dwi': 'B', 'Syahdan': 'D', 'Veronica': 'B'}\n"
     ]
    }
   ],
   "source": [
    "def gradeConverter(convertTo,**skor):\n",
    "    allName = skor.keys()\n",
    "    if convertTo == \"letter_grade\":\n",
    "        for name in allName:\n",
    "            if 85 <= skor[name] <= 100:\n",
    "                skor[name] = \"A\"\n",
    "            elif 70.0 <= float(skor[name]) <= 84.99:\n",
    "                skor[name] = \"B\"\n",
    "            elif 60.0 <= float(skor[name]) <= 69.99:\n",
    "                skor[name] = \"C\"\n",
    "            elif 50.0 <= float(skor[name]) <= 69.99:\n",
    "                skor[name] = \"D\"\n",
    "            elif 50.0 <= float(skor[name]) <= 69.99:\n",
    "                skor[name] = \"E\"\n",
    "            elif 50.0 <= float(skor[name]) <= 69.99:\n",
    "                skor[name] = \"F\"\n",
    "    elif convertTo == \"gpa\":\n",
    "        for name in allName:\n",
    "            if 85 <= skor[name] <= 100:\n",
    "                skor[name] = 4\n",
    "            elif 70.0 <= float(skor[name]) <= 84.99:\n",
    "                skor[name] = 3\n",
    "            elif 60.0 <= float(skor[name]) <= 69.99:\n",
    "                skor[name] = 2.5\n",
    "            elif 50.0 <= float(skor[name]) <= 69.99:\n",
    "                skor[name] = 2\n",
    "            elif 50.0 <= float(skor[name]) <= 69.99:\n",
    "                skor[name] = 1.5\n",
    "            elif 50.0 <= float(skor[name]) <= 69.99:\n",
    "                skor[name] = 1\n",
    "    return skor\n",
    "\n",
    "print(gradeConverter(\"gpa\", Adam = 62, Faiz = 91))\n",
    "print(gradeConverter(\"letter_grade\",Albert=90, Dwi=82, Syahdan=58, Veronica=84))"
   ]
  },
  {
   "cell_type": "code",
   "execution_count": null,
   "metadata": {},
   "outputs": [],
   "source": [
    "def converter(type, **siswa):\n",
    "\n",
    "    # mengakses tiap nama dan nilai siswa\n",
    "    for nama, nilai in siswa.items():\n",
    "        # menentukan tipe nilai jika GPA\n",
    "        if type == 'gpa':\n",
    "            if nilai >= 85 :\n",
    "                siswa[nama] = 4\n",
    "            elif nilai >= 70 :\n",
    "                siswa[nama]  = 3\n",
    "            elif nilai >= 60 :\n",
    "                siswa[nama]  = 2.5\n",
    "            elif nilai >= 50 :\n",
    "                siswa[nama]  = 2\n",
    "            elif nilai >= 40 :\n",
    "                siswa[nama]  = 1.5\n",
    "            else :\n",
    "                siswa[nama]  = 1\n",
    "\n",
    "        # Jika format nilai Letter grade\n",
    "        else :\n",
    "            if nilai >= 85 :\n",
    "                siswa[nama]  = 'A'\n",
    "            elif nilai >= 70 :\n",
    "                siswa[nama]  = 'B'\n",
    "            elif nilai >= 60 :\n",
    "                siswa[nama]  = 'C'\n",
    "            elif nilai >= 50 :\n",
    "                siswa[nama]  = 'D'\n",
    "            elif nilai >= 40 :\n",
    "                siswa[nama]  = 'E'\n",
    "            else :\n",
    "                siswa[nama]  = 'F'\n",
    "                \n",
    "    return siswa"
   ]
  },
  {
   "cell_type": "markdown",
   "metadata": {},
   "source": []
  }
 ],
 "metadata": {
  "kernelspec": {
   "display_name": "hck016",
   "language": "python",
   "name": "python3"
  },
  "language_info": {
   "codemirror_mode": {
    "name": "ipython",
    "version": 3
   },
   "file_extension": ".py",
   "mimetype": "text/x-python",
   "name": "python",
   "nbconvert_exporter": "python",
   "pygments_lexer": "ipython3",
   "version": "3.9.19"
  }
 },
 "nbformat": 4,
 "nbformat_minor": 2
}
