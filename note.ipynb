{
 "cells": [
  {
   "cell_type": "code",
   "execution_count": 2,
   "metadata": {},
   "outputs": [
    {
     "name": "stdout",
     "output_type": "stream",
     "text": [
      "hello world\n"
     ]
    }
   ],
   "source": [
    "print('hello world')"
   ]
  },
  {
   "cell_type": "markdown",
   "metadata": {},
   "source": [
    "If Statement"
   ]
  },
  {
   "cell_type": "code",
   "execution_count": 12,
   "metadata": {},
   "outputs": [],
   "source": [
    "suhu = float(input(\"Masukkan suhu: \"))\n",
    "if suhu > 30: # kondisi harus benar, baru print dieksekusi\n",
    "    print(\"Cuaca panas\")"
   ]
  },
  {
   "cell_type": "code",
   "execution_count": 4,
   "metadata": {},
   "outputs": [],
   "source": [
    "suhu = \n",
    "kelembaban = 75\n",
    "if suhu > 30 and kelembaban >70:\n",
    "    print(\"Panas dan lembab\")"
   ]
  },
  {
   "cell_type": "markdown",
   "metadata": {},
   "source": [
    "Elif and Else Clause"
   ]
  },
  {
   "cell_type": "code",
   "execution_count": 11,
   "metadata": {},
   "outputs": [
    {
     "name": "stdout",
     "output_type": "stream",
     "text": [
      "Panas dan lembab\n"
     ]
    }
   ],
   "source": [
    "suhu = int(input('Masukkan suhu: '))\n",
    "if suhu < 20:\n",
    "    print(\"Dingin!\")\n",
    "elif 20 <= suhu  <= 30:\n",
    "    print(\"Cuaca oke nih\")\n",
    "else:\n",
    "    print(\"Panas dan lembab\")"
   ]
  },
  {
   "cell_type": "markdown",
   "metadata": {},
   "source": [
    "Pass Statement"
   ]
  },
  {
   "cell_type": "code",
   "execution_count": 13,
   "metadata": {},
   "outputs": [
    {
     "name": "stdout",
     "output_type": "stream",
     "text": [
      "Terima kasih telah menggunakan aplikasi kami\n"
     ]
    }
   ],
   "source": [
    "cuacaHariIni = ['cerah',\"panas\",\"lembab\"]\n",
    "if \"cerah\" in cuacaHariIni:\n",
    "    pass\n",
    "\n",
    "print(\"Terima kasih telah menggunakan aplikasi kami\")"
   ]
  },
  {
   "cell_type": "markdown",
   "metadata": {},
   "source": [
    "# Nested If and Ternary Operator\n",
    "## Nested IF Construct"
   ]
  },
  {
   "cell_type": "code",
   "execution_count": 14,
   "metadata": {},
   "outputs": [
    {
     "name": "stdout",
     "output_type": "stream",
     "text": [
      "Hujan Siang\n"
     ]
    }
   ],
   "source": [
    "cuaca = \"hujan\"\n",
    "waktu = input(\"Tentukan malam/siang: \")\n",
    "\n",
    "if cuaca == \"hujan\":\n",
    "    if waktu == \"malam\":\n",
    "        print(\"Hujan Malam\")\n",
    "    elif waktu == \"siang\":\n",
    "        print(\"Hujan Siang\")\n"
   ]
  },
  {
   "cell_type": "markdown",
   "metadata": {},
   "source": [
    "## Ternary Operator"
   ]
  },
  {
   "cell_type": "code",
   "execution_count": 17,
   "metadata": {},
   "outputs": [
    {
     "name": "stdout",
     "output_type": "stream",
     "text": [
      "Cuaca Panas, minum air yang cukup\n"
     ]
    }
   ],
   "source": [
    "suhu = 40\n",
    "pesan = \"Cuaca Panas, minum air yang cukup\" if suhu > 30 else \"Cuaca sedang baik\"\n",
    "print(pesan)"
   ]
  },
  {
   "cell_type": "markdown",
   "metadata": {},
   "source": [
    "# While Loops\n",
    "Akan teru nge-looping selama kondisi bernilai true.\n",
    "## Basic Syntax of While Loops"
   ]
  },
  {
   "cell_type": "code",
   "execution_count": 20,
   "metadata": {},
   "outputs": [
    {
     "name": "stdout",
     "output_type": "stream",
     "text": [
      "5\n",
      "6\n",
      "7\n",
      "8\n",
      "9\n",
      "10\n",
      "11\n",
      "12\n"
     ]
    }
   ],
   "source": [
    "i = 5\n",
    "while i <= 12: # batas berhenti looping\n",
    "    print(i) # langkahnya\n",
    "    i += 1 # output"
   ]
  },
  {
   "cell_type": "markdown",
   "metadata": {},
   "source": [
    "## Break and Continue Statement"
   ]
  },
  {
   "cell_type": "code",
   "execution_count": 24,
   "metadata": {},
   "outputs": [
    {
     "name": "stdout",
     "output_type": "stream",
     "text": [
      "10\n",
      "9\n",
      "8\n",
      "7\n",
      "6\n"
     ]
    }
   ],
   "source": [
    "i = 10\n",
    "while i > 0:\n",
    "    if i == 5:\n",
    "        break\n",
    "    print(i)\n",
    "    i -= 1"
   ]
  },
  {
   "cell_type": "markdown",
   "metadata": {},
   "source": [
    "## The Else Clause"
   ]
  },
  {
   "cell_type": "code",
   "execution_count": 25,
   "metadata": {},
   "outputs": [
    {
     "name": "stdout",
     "output_type": "stream",
     "text": [
      "10\n",
      "9\n",
      "8\n",
      "7\n",
      "6\n",
      "5\n",
      "4\n",
      "3\n",
      "2\n",
      "1\n",
      "Menghitung mundur selesai.\n"
     ]
    }
   ],
   "source": [
    "i = 10\n",
    "while i > 0: # batas\n",
    "    print(i) # dieksekusi saat masih true\n",
    "    i -= 1\n",
    "else: # dieksekusi saat sudah false\n",
    "    print(\"Menghitung mundur selesai.\")"
   ]
  },
  {
   "cell_type": "markdown",
   "metadata": {},
   "source": [
    "# Nested While Loop"
   ]
  },
  {
   "cell_type": "code",
   "execution_count": 26,
   "metadata": {},
   "outputs": [
    {
     "name": "stdout",
     "output_type": "stream",
     "text": [
      "1 * 1 = 1\n",
      "1 * 2 = 2\n",
      "1 * 3 = 3\n",
      "1 * 4 = 4\n",
      "1 * 5 = 5\n",
      "2 * 1 = 2\n",
      "2 * 2 = 4\n",
      "2 * 3 = 6\n",
      "2 * 4 = 8\n",
      "2 * 5 = 10\n",
      "3 * 1 = 3\n",
      "3 * 2 = 6\n",
      "3 * 3 = 9\n",
      "3 * 4 = 12\n",
      "3 * 5 = 15\n"
     ]
    }
   ],
   "source": [
    "i = 1\n",
    "while i <= 3:\n",
    "    j = 1\n",
    "    while  j <= 5:\n",
    "        print(f\"{i} * {j} = {i*j}\")\n",
    "        j += 1\n",
    "    i += 1"
   ]
  },
  {
   "cell_type": "markdown",
   "metadata": {},
   "source": [
    "## Basic Syntax of For Loop\n",
    "objek yang iterable: list, tuple, "
   ]
  },
  {
   "cell_type": "code",
   "execution_count": null,
   "metadata": {},
   "outputs": [],
   "source": []
  },
  {
   "cell_type": "markdown",
   "metadata": {},
   "source": [
    "# The range() Function"
   ]
  },
  {
   "cell_type": "code",
   "execution_count": 27,
   "metadata": {},
   "outputs": [
    {
     "name": "stdout",
     "output_type": "stream",
     "text": [
      "1\n",
      "2\n",
      "3\n",
      "4\n",
      "5\n",
      "6\n",
      "7\n",
      "8\n",
      "9\n",
      "10\n"
     ]
    }
   ],
   "source": [
    "for i in range(1, 11):\n",
    "    print(i)"
   ]
  },
  {
   "cell_type": "markdown",
   "metadata": {},
   "source": [
    "## Altering For Loop Behaviour"
   ]
  },
  {
   "cell_type": "code",
   "execution_count": 30,
   "metadata": {},
   "outputs": [
    {
     "name": "stdout",
     "output_type": "stream",
     "text": [
      "isi value i = 1\n",
      "1\n",
      "isi value i = 2\n",
      "2\n",
      "isi value i = 3\n",
      "3\n",
      "isi value i = 4\n",
      "4\n",
      "isi value i = 5\n"
     ]
    }
   ],
   "source": [
    "for i in range(1, 11):\n",
    "    print(f\"isi value i = {i}\")\n",
    "    if i == 5:\n",
    "        break\n",
    "    print(i)"
   ]
  },
  {
   "cell_type": "markdown",
   "metadata": {},
   "source": [
    "## Ternary"
   ]
  },
  {
   "cell_type": "code",
   "execution_count": 33,
   "metadata": {},
   "outputs": [
    {
     "name": "stdout",
     "output_type": "stream",
     "text": [
      "1 adalah ganjil\n",
      "2 adalah genap\n",
      "3 adalah ganjil\n",
      "4 adalah genap\n",
      "5 adalah ganjil\n",
      "6 adalah genap\n",
      "7 adalah ganjil\n",
      "8 adalah genap\n",
      "9 adalah ganjil\n",
      "10 adalah genap\n"
     ]
    }
   ],
   "source": [
    "for i in range(1,11):\n",
    "    jenis = \"ganjil\" if i % 2 != 0 else \"genap\"\n",
    "    print(f\"{i} adalah {jenis}\")"
   ]
  },
  {
   "cell_type": "code",
   "execution_count": 31,
   "metadata": {},
   "outputs": [
    {
     "name": "stdout",
     "output_type": "stream",
     "text": [
      "[32.0, 50.0, 68.0, 86.0, 104.0]\n"
     ]
    }
   ],
   "source": [
    "suhuCelcius = [0, 10, 20, 30, 40]\n",
    "suhuFahrenheit = [(9/5)*suhu + 32 for suhu in suhuCelcius]\n",
    "print(suhuFahrenheit)"
   ]
  },
  {
   "cell_type": "code",
   "execution_count": 35,
   "metadata": {},
   "outputs": [
    {
     "name": "stdout",
     "output_type": "stream",
     "text": [
      "[32.0]\n",
      "[50.0]\n",
      "[68.0]\n",
      "[86.0]\n",
      "[104.0]\n"
     ]
    }
   ],
   "source": [
    "suhuCelcius = [0, 10, 20, 30, 40]\n",
    "for suhu in suhuCelcius:\n",
    "    suhuFahrenheit = [(9/5)*suhu + 32]\n",
    "    print(suhuFahrenheit)\n"
   ]
  },
  {
   "cell_type": "code",
   "execution_count": 32,
   "metadata": {},
   "outputs": [
    {
     "name": "stdout",
     "output_type": "stream",
     "text": [
      "[32.0, 50.0]\n"
     ]
    }
   ],
   "source": [
    "suhuCelcius = [0, 10, 20, 30, 40]\n",
    "suhuFahrenheit = [(9/5)*suhu + 32 for suhu in suhuCelcius if suhu < 20 ]\n",
    "print(suhuFahrenheit)"
   ]
  },
  {
   "cell_type": "markdown",
   "metadata": {},
   "source": [
    "## Enumerate (additional)"
   ]
  },
  {
   "cell_type": "markdown",
   "metadata": {},
   "source": [
    "## Exercise"
   ]
  },
  {
   "cell_type": "markdown",
   "metadata": {},
   "source": [
    "### Task 1"
   ]
  },
  {
   "cell_type": "code",
   "execution_count": 55,
   "metadata": {},
   "outputs": [
    {
     "name": "stdout",
     "output_type": "stream",
     "text": [
      "1\n",
      "22\n",
      "333\n",
      "4444\n",
      "55555\n",
      "666666\n",
      "7777777\n",
      "88888888\n",
      "999999999\n",
      "1\n",
      "22\n",
      "333\n",
      "4444\n",
      "55555\n",
      "666666\n",
      "7777777\n",
      "88888888\n",
      "999999999\n"
     ]
    }
   ],
   "source": [
    "i = 1\n",
    "j = 1\n",
    "while i <= 9:\n",
    "    while j <= i:\n",
    "        print(f\"{i}\"*j)\n",
    "        j += 1\n",
    "    i += 1\n",
    "\n",
    "for n in range(1,10):\n",
    "    print(f\"{n}\"*n)"
   ]
  },
  {
   "cell_type": "markdown",
   "metadata": {},
   "source": [
    "### Task 2"
   ]
  },
  {
   "cell_type": "code",
   "execution_count": 95,
   "metadata": {},
   "outputs": [
    {
     "name": "stdout",
     "output_type": "stream",
     "text": [
      "Flag2 true\n",
      "Flag1 True\n",
      "Flag1 True\n",
      "Flag1 True\n",
      "Flag3 True\n",
      "Flag3 True\n",
      "Flag3 True\n",
      "At least 1 character from [$#@]\n"
     ]
    }
   ],
   "source": [
    "password = str(input(\"Isikan Password : \"))\n",
    "flag1 = False\n",
    "flag2 = False\n",
    "flag3 = False\n",
    "flag4 = False\n",
    "flag5 = False\n",
    "specialCharacter = \"$#@\"\n",
    "\n",
    "\n",
    "\n",
    "#at least alpha lower case\n",
    "for everyChar in password:\n",
    "    #flag1 = everyChar.islower()\n",
    "    if everyChar.islower():\n",
    "        flag1 = True\n",
    "        #print(\"Flag1 True\")\n",
    "    elif everyChar.isupper():\n",
    "        flag2 = True\n",
    "        #print(\"Flag2 true\")\n",
    "    elif everyChar.isdigit():\n",
    "        flag3 = True\n",
    "        #print(\"Flag3 True\")\n",
    "    elif any(char in specialCharacter for char in password):\n",
    "        flag4 = True\n",
    "        #print(\"Flag4 True\")\n",
    "    elif 6 <= password.len() <=16:\n",
    "        flag5 = True\n",
    "        #print(\"Flag5 True\")\n",
    "\n",
    "\n",
    "\n",
    "#showing message at least 1 alpha lower case and 1 alpha upper case\n",
    "if flag1 == False or flag2 == False:\n",
    "    print(\"At least 1 letter between [a-z] and 1 letter between [A-Z]\")\n",
    "elif flag3 == False:\n",
    "    print(\"At least 1 number between [0-9]\")\n",
    "elif flag4 == False:\n",
    "    print(\"At least 1 character from [$#@]\")\n",
    "elif flag5 == False:\n",
    "    print(\"Minimum length 6 characters and Maximum length 16 characters\")\n",
    "\n",
    "\n"
   ]
  },
  {
   "cell_type": "markdown",
   "metadata": {},
   "source": [
    "# Functions"
   ]
  },
  {
   "cell_type": "code",
   "execution_count": 96,
   "metadata": {},
   "outputs": [
    {
     "name": "stdout",
     "output_type": "stream",
     "text": [
      "300\n",
      "None\n"
     ]
    }
   ],
   "source": [
    "def tambah(a,b):\n",
    "    print(a+b)\n",
    "\n",
    "hasil = tambah(100,200)\n",
    "print(hasil) #meng return none"
   ]
  },
  {
   "cell_type": "code",
   "execution_count": 97,
   "metadata": {},
   "outputs": [
    {
     "name": "stdout",
     "output_type": "stream",
     "text": [
      "300\n"
     ]
    }
   ],
   "source": [
    "def tambah(a,b):\n",
    "    return a+b\n",
    "\n",
    "hasil = tambah(100,200)\n",
    "print(hasil)"
   ]
  },
  {
   "cell_type": "markdown",
   "metadata": {},
   "source": [
    "### Variable lokal dan global"
   ]
  },
  {
   "cell_type": "markdown",
   "metadata": {},
   "source": [
    "### Varian Parameter Function\n",
    "#### Fixed Length: jumla parameter ketika dipanggil konstan"
   ]
  },
  {
   "cell_type": "code",
   "execution_count": 99,
   "metadata": {},
   "outputs": [
    {
     "name": "stdout",
     "output_type": "stream",
     "text": [
      "Halo, Budi! Selamat pagi!\n"
     ]
    },
    {
     "ename": "TypeError",
     "evalue": "salam() missing 1 required positional argument: 'pesan'",
     "output_type": "error",
     "traceback": [
      "\u001b[1;31m---------------------------------------------------------------------------\u001b[0m",
      "\u001b[1;31mTypeError\u001b[0m                                 Traceback (most recent call last)",
      "Cell \u001b[1;32mIn[99], line 6\u001b[0m\n\u001b[0;32m      3\u001b[0m     \u001b[38;5;28mprint\u001b[39m(\u001b[38;5;124mf\u001b[39m\u001b[38;5;124m\"\u001b[39m\u001b[38;5;124mHalo, \u001b[39m\u001b[38;5;132;01m{\u001b[39;00mnama\u001b[38;5;132;01m}\u001b[39;00m\u001b[38;5;124m! \u001b[39m\u001b[38;5;132;01m{\u001b[39;00mpesan\u001b[38;5;132;01m}\u001b[39;00m\u001b[38;5;124m\"\u001b[39m)\n\u001b[0;32m      5\u001b[0m salam(\u001b[38;5;124m\"\u001b[39m\u001b[38;5;124mBudi\u001b[39m\u001b[38;5;124m\"\u001b[39m, \u001b[38;5;124m\"\u001b[39m\u001b[38;5;124mSelamat pagi!\u001b[39m\u001b[38;5;124m\"\u001b[39m)\n\u001b[1;32m----> 6\u001b[0m \u001b[43msalam\u001b[49m\u001b[43m(\u001b[49m\u001b[38;5;124;43m\"\u001b[39;49m\u001b[38;5;124;43mBudi\u001b[39;49m\u001b[38;5;124;43m\"\u001b[39;49m\u001b[43m)\u001b[49m\n",
      "\u001b[1;31mTypeError\u001b[0m: salam() missing 1 required positional argument: 'pesan'"
     ]
    }
   ],
   "source": [
    "#required\n",
    "def salam(nama, pesan):\n",
    "    print(f\"Halo, {nama}! {pesan}\")\n",
    "\n",
    "salam(\"Budi\", \"Selamat pagi!\")\n",
    "#salam(\"Budi\") #akan error butuh satu parameter"
   ]
  },
  {
   "cell_type": "code",
   "execution_count": 100,
   "metadata": {},
   "outputs": [
    {
     "name": "stdout",
     "output_type": "stream",
     "text": [
      "Halo,Fred! Selamat datang di Indomaret\n"
     ]
    }
   ],
   "source": [
    "#default parameter\n",
    "\n",
    "def salam(nama=\"Vincent\", pesan=\"Selamat datang di Indomaret\"):\n",
    "    print(f\"Halo,{nama}! {pesan}\")\n",
    "\n",
    "\n",
    "salam(\"Fred\")"
   ]
  },
  {
   "cell_type": "code",
   "execution_count": 102,
   "metadata": {},
   "outputs": [
    {
     "data": {
      "text/plain": [
       "'My name is Fredmy age is 20my city isJakarta'"
      ]
     },
     "execution_count": 102,
     "metadata": {},
     "output_type": "execute_result"
    }
   ],
   "source": [
    "def perkenalan(name, age, city):\n",
    "    return \"My name is \" + name + \"my age is \" + age + \"my city is\" + city\n",
    "\n",
    "perkenalan(\"Fred\",\"20\",\"Jakarta\")"
   ]
  },
  {
   "cell_type": "code",
   "execution_count": 103,
   "metadata": {},
   "outputs": [
    {
     "name": "stdout",
     "output_type": "stream",
     "text": [
      "Budi berumur 20 tahun.\n",
      "Budi berumur 20 tahun.\n"
     ]
    }
   ],
   "source": [
    "#keyword\n",
    "def deskripsi(nama, umur):\n",
    "    print(f\"{nama} berumur {umur} tahun.\")\n",
    "\n",
    "deskripsi(nama=\"Budi\", umur=20)\n",
    "deskripsi( umur=20, nama=\"Budi\")"
   ]
  },
  {
   "cell_type": "markdown",
   "metadata": {},
   "source": [
    "### Length Parameter"
   ]
  },
  {
   "cell_type": "code",
   "execution_count": 105,
   "metadata": {},
   "outputs": [
    {
     "name": "stdout",
     "output_type": "stream",
     "text": [
      "Aktivitas belanja Tasya:\n",
      "Menambahkan Apel ke keranjang belanja.\n",
      "Menambahkan Pisang ke keranjang belanja.\n",
      "Menambahkan Jeruk ke keranjang belanja.\n"
     ]
    }
   ],
   "source": [
    "#contoh *args\n",
    "def belanja(custName, *barang):\n",
    "    print(f\"Aktivitas belanja {custName}:\")\n",
    "    for b in barang:\n",
    "        print(f\"Menambahkan {b} ke keranjang belanja.\")\n",
    "\n",
    "belanja(\"Tasya\",\"Apel\",\"Pisang\",\"Jeruk\")"
   ]
  },
  {
   "cell_type": "markdown",
   "metadata": {},
   "source": [
    "### Contoh **kwargs"
   ]
  },
  {
   "cell_type": "code",
   "execution_count": 108,
   "metadata": {},
   "outputs": [
    {
     "data": {
      "text/plain": [
       "dict"
      ]
     },
     "execution_count": 108,
     "metadata": {},
     "output_type": "execute_result"
    }
   ],
   "source": [
    "def getUser(**kwargs):\n",
    "    return kwargs\n",
    "\n",
    "getUser(Nama=\"Budi\", Umur=20, Kota=\"Jakarta\")\n"
   ]
  },
  {
   "cell_type": "markdown",
   "metadata": {},
   "source": [
    "## Anonymous Function"
   ]
  },
  {
   "cell_type": "code",
   "execution_count": null,
   "metadata": {},
   "outputs": [],
   "source": [
    "tambah = lambda x, y: x + y #tambah bukan nama function, anonymous function tidak memiliki nama\n",
    "\n",
    "tambah(5,3)"
   ]
  },
  {
   "cell_type": "code",
   "execution_count": 107,
   "metadata": {},
   "outputs": [
    {
     "data": {
      "text/plain": [
       "<map at 0x20422b738e0>"
      ]
     },
     "execution_count": 107,
     "metadata": {},
     "output_type": "execute_result"
    }
   ],
   "source": [
    "numbers = [1,2,3,4]\n",
    "squared = map(lambda x: x ** 2, numbers)\n",
    "\n",
    "\n",
    "list(squared)"
   ]
  }
 ],
 "metadata": {
  "kernelspec": {
   "display_name": "hck016",
   "language": "python",
   "name": "python3"
  },
  "language_info": {
   "codemirror_mode": {
    "name": "ipython",
    "version": 3
   },
   "file_extension": ".py",
   "mimetype": "text/x-python",
   "name": "python",
   "nbconvert_exporter": "python",
   "pygments_lexer": "ipython3",
   "version": "3.9.19"
  }
 },
 "nbformat": 4,
 "nbformat_minor": 2
}
